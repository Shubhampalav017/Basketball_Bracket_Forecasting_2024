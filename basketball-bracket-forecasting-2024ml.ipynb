{
 "cells": [
  {
   "cell_type": "code",
   "execution_count": 1,
   "id": "de6d8d4a",
   "metadata": {
    "_cell_guid": "b1076dfc-b9ad-4769-8c92-a6c4dae69d19",
    "_uuid": "8f2839f25d086af736a60e9eeb907d3b93b6e0e5",
    "execution": {
     "iopub.execute_input": "2024-06-05T15:38:05.929989Z",
     "iopub.status.busy": "2024-06-05T15:38:05.929616Z",
     "iopub.status.idle": "2024-06-05T15:38:06.748883Z",
     "shell.execute_reply": "2024-06-05T15:38:06.747269Z"
    },
    "papermill": {
     "duration": 0.82719,
     "end_time": "2024-06-05T15:38:06.751649",
     "exception": false,
     "start_time": "2024-06-05T15:38:05.924459",
     "status": "completed"
    },
    "tags": []
   },
   "outputs": [
    {
     "name": "stdout",
     "output_type": "stream",
     "text": [
      "/kaggle/input/march-machine-learning-mania-2024/Conferences.csv\n",
      "/kaggle/input/march-machine-learning-mania-2024/sample_submission.csv\n",
      "/kaggle/input/march-machine-learning-mania-2024/WNCAATourneyDetailedResults.csv\n",
      "/kaggle/input/march-machine-learning-mania-2024/WRegularSeasonCompactResults.csv\n",
      "/kaggle/input/march-machine-learning-mania-2024/MNCAATourneySeedRoundSlots.csv\n",
      "/kaggle/input/march-machine-learning-mania-2024/MRegularSeasonDetailedResults.csv\n",
      "/kaggle/input/march-machine-learning-mania-2024/MNCAATourneyCompactResults.csv\n",
      "/kaggle/input/march-machine-learning-mania-2024/MGameCities.csv\n",
      "/kaggle/input/march-machine-learning-mania-2024/WGameCities.csv\n",
      "/kaggle/input/march-machine-learning-mania-2024/MSeasons.csv\n",
      "/kaggle/input/march-machine-learning-mania-2024/WNCAATourneySlots.csv\n",
      "/kaggle/input/march-machine-learning-mania-2024/MSecondaryTourneyTeams.csv\n",
      "/kaggle/input/march-machine-learning-mania-2024/2024_tourney_seeds.csv\n",
      "/kaggle/input/march-machine-learning-mania-2024/Cities.csv\n",
      "/kaggle/input/march-machine-learning-mania-2024/MTeamSpellings.csv\n",
      "/kaggle/input/march-machine-learning-mania-2024/MRegularSeasonCompactResults.csv\n",
      "/kaggle/input/march-machine-learning-mania-2024/MSecondaryTourneyCompactResults.csv\n",
      "/kaggle/input/march-machine-learning-mania-2024/WTeams.csv\n",
      "/kaggle/input/march-machine-learning-mania-2024/MNCAATourneySlots.csv\n",
      "/kaggle/input/march-machine-learning-mania-2024/MNCAATourneySeeds.csv\n",
      "/kaggle/input/march-machine-learning-mania-2024/MMasseyOrdinals_thruSeason2024_day128.csv\n",
      "/kaggle/input/march-machine-learning-mania-2024/WNCAATourneyCompactResults.csv\n",
      "/kaggle/input/march-machine-learning-mania-2024/WSeasons.csv\n",
      "/kaggle/input/march-machine-learning-mania-2024/WNCAATourneySeeds.csv\n",
      "/kaggle/input/march-machine-learning-mania-2024/MTeamCoaches.csv\n",
      "/kaggle/input/march-machine-learning-mania-2024/MConferenceTourneyGames.csv\n",
      "/kaggle/input/march-machine-learning-mania-2024/WRegularSeasonDetailedResults.csv\n",
      "/kaggle/input/march-machine-learning-mania-2024/MNCAATourneyDetailedResults.csv\n",
      "/kaggle/input/march-machine-learning-mania-2024/WTeamSpellings.csv\n",
      "/kaggle/input/march-machine-learning-mania-2024/MTeamConferences.csv\n",
      "/kaggle/input/march-machine-learning-mania-2024/MTeams.csv\n",
      "/kaggle/input/march-machine-learning-mania-2024/WTeamConferences.csv\n"
     ]
    }
   ],
   "source": [
    "# This Python 3 environment comes with many helpful analytics libraries installed\n",
    "# It is defined by the kaggle/python Docker image: https://github.com/kaggle/docker-python\n",
    "# For example, here's several helpful packages to load\n",
    "\n",
    "import numpy as np # linear algebra\n",
    "import pandas as pd # data processing, CSV file I/O (e.g. pd.read_csv)\n",
    "\n",
    "# Input data files are available in the read-only \"../input/\" directory\n",
    "# For example, running this (by clicking run or pressing Shift+Enter) will list all files under the input directory\n",
    "\n",
    "import os\n",
    "for dirname, _, filenames in os.walk('/kaggle/input'):\n",
    "    for filename in filenames:\n",
    "        print(os.path.join(dirname, filename))\n",
    "\n",
    "# You can write up to 20GB to the current directory (/kaggle/working/) that gets preserved as output when you create a version using \"Save & Run All\" \n",
    "# You can also write temporary files to /kaggle/temp/, but they won't be saved outside of the current session"
   ]
  },
  {
   "cell_type": "code",
   "execution_count": 2,
   "id": "ccb630a2",
   "metadata": {
    "execution": {
     "iopub.execute_input": "2024-06-05T15:38:06.760039Z",
     "iopub.status.busy": "2024-06-05T15:38:06.759599Z",
     "iopub.status.idle": "2024-06-05T15:38:38.392920Z",
     "shell.execute_reply": "2024-06-05T15:38:38.391593Z"
    },
    "papermill": {
     "duration": 31.640196,
     "end_time": "2024-06-05T15:38:38.395496",
     "exception": false,
     "start_time": "2024-06-05T15:38:06.755300",
     "status": "completed"
    },
    "tags": []
   },
   "outputs": [
    {
     "name": "stdout",
     "output_type": "stream",
     "text": [
      "\u001b[33mWARNING: Error parsing requirements for aiohttp: [Errno 2] No such file or directory: '/opt/conda/lib/python3.10/site-packages/aiohttp-3.9.1.dist-info/METADATA'\u001b[0m\u001b[33m\r\n",
      "\u001b[0m\u001b[31mERROR: pip's dependency resolver does not currently take into account all the packages that are installed. This behaviour is the source of the following dependency conflicts.\r\n",
      "datasets 2.19.1 requires aiohttp, which is not installed.\r\n",
      "fury 0.10.0 requires aiohttp>=3.8.4, which is not installed.\r\n",
      "jupyter-server-proxy 4.1.0 requires aiohttp, which is not installed.\r\n",
      "keras-cv 0.9.0 requires keras-core, which is not installed.\r\n",
      "keras-nlp 0.12.1 requires keras-core, which is not installed.\r\n",
      "tensorflow-decision-forests 1.8.1 requires wurlitzer, which is not installed.\r\n",
      "google-cloud-bigquery 2.34.4 requires packaging<22.0dev,>=14.3, but you have packaging 24.0 which is incompatible.\r\n",
      "jupyterlab 4.2.1 requires jupyter-lsp>=2.0.0, but you have jupyter-lsp 1.5.1 which is incompatible.\r\n",
      "jupyterlab-lsp 5.1.0 requires jupyter-lsp>=2.0.0, but you have jupyter-lsp 1.5.1 which is incompatible.\r\n",
      "libpysal 4.9.2 requires shapely>=2.0.1, but you have shapely 1.8.5.post1 which is incompatible.\r\n",
      "momepy 0.7.0 requires shapely>=2, but you have shapely 1.8.5.post1 which is incompatible.\r\n",
      "osmnx 1.9.3 requires shapely>=2.0, but you have shapely 1.8.5.post1 which is incompatible.\r\n",
      "spopt 0.6.0 requires shapely>=2.0.1, but you have shapely 1.8.5.post1 which is incompatible.\r\n",
      "tensorflow 2.15.0 requires keras<2.16,>=2.15.0, but you have keras 3.3.3 which is incompatible.\r\n",
      "ydata-profiling 4.6.4 requires numpy<1.26,>=1.16.0, but you have numpy 1.26.4 which is incompatible.\u001b[0m\u001b[31m\r\n",
      "\u001b[0m\u001b[33mWARNING: Error parsing requirements for aiohttp: [Errno 2] No such file or directory: '/opt/conda/lib/python3.10/site-packages/aiohttp-3.9.1.dist-info/METADATA'\u001b[0m\u001b[33m\r\n",
      "\u001b[0m\u001b[31mERROR: pip's dependency resolver does not currently take into account all the packages that are installed. This behaviour is the source of the following dependency conflicts.\r\n",
      "dask-expr 1.1.1 requires dask==2024.5.1, but you have dask 2024.5.2 which is incompatible.\u001b[0m\u001b[31m\r\n",
      "\u001b[0m"
     ]
    }
   ],
   "source": [
    "!pip install -q jupyter-black\n",
    "!pip install -q --upgrade xgboost[dask]"
   ]
  },
  {
   "cell_type": "code",
   "execution_count": 3,
   "id": "d28d33d6",
   "metadata": {
    "execution": {
     "iopub.execute_input": "2024-06-05T15:38:38.404566Z",
     "iopub.status.busy": "2024-06-05T15:38:38.404167Z",
     "iopub.status.idle": "2024-06-05T15:38:38.513394Z",
     "shell.execute_reply": "2024-06-05T15:38:38.512170Z"
    },
    "papermill": {
     "duration": 0.116768,
     "end_time": "2024-06-05T15:38:38.515910",
     "exception": false,
     "start_time": "2024-06-05T15:38:38.399142",
     "status": "completed"
    },
    "tags": []
   },
   "outputs": [
    {
     "data": {
      "text/html": [
       "\n",
       "                <script type=\"application/javascript\" id=\"jupyter_black\">\n",
       "                (function() {\n",
       "                    if (window.IPython === undefined) {\n",
       "                        return\n",
       "                    }\n",
       "                    var msg = \"WARNING: it looks like you might have loaded \" +\n",
       "                        \"jupyter_black in a non-lab notebook with \" +\n",
       "                        \"`is_lab=True`. Please double check, and if \" +\n",
       "                        \"loading with `%load_ext` please review the README!\"\n",
       "                    console.log(msg)\n",
       "                    alert(msg)\n",
       "                })()\n",
       "                </script>\n",
       "                "
      ],
      "text/plain": [
       "<IPython.core.display.HTML object>"
      ]
     },
     "metadata": {},
     "output_type": "display_data"
    }
   ],
   "source": [
    "import jupyter_black\n",
    "\n",
    "jupyter_black.load()"
   ]
  },
  {
   "cell_type": "code",
   "execution_count": 4,
   "id": "104828cc",
   "metadata": {
    "execution": {
     "iopub.execute_input": "2024-06-05T15:38:38.525219Z",
     "iopub.status.busy": "2024-06-05T15:38:38.524858Z",
     "iopub.status.idle": "2024-06-05T15:38:40.276467Z",
     "shell.execute_reply": "2024-06-05T15:38:40.275494Z"
    },
    "papermill": {
     "duration": 1.759398,
     "end_time": "2024-06-05T15:38:40.279097",
     "exception": false,
     "start_time": "2024-06-05T15:38:38.519699",
     "status": "completed"
    },
    "tags": []
   },
   "outputs": [],
   "source": [
    "import pandas as pd\n",
    "import numpy as np\n",
    "import matplotlib.pylab as plt\n",
    "import matplotlib as mpl\n",
    "from matplotlib.patches import Circle, Rectangle, Arc\n",
    "import seaborn as sns\n",
    "\n",
    "from sklearn.metrics import accuracy_score, log_loss\n",
    "import xgboost as xgb\n",
    "from sklearn.model_selection import GroupKFold\n",
    "\n",
    "plt.style.use(\"fivethirtyeight\")\n",
    "mypal = plt.rcParams[\"axes.prop_cycle\"].by_key()[\"color\"]"
   ]
  },
  {
   "cell_type": "code",
   "execution_count": 5,
   "id": "9c2f4787",
   "metadata": {
    "execution": {
     "iopub.execute_input": "2024-06-05T15:38:40.288330Z",
     "iopub.status.busy": "2024-06-05T15:38:40.287943Z",
     "iopub.status.idle": "2024-06-05T15:38:41.378045Z",
     "shell.execute_reply": "2024-06-05T15:38:41.376549Z"
    },
    "papermill": {
     "duration": 1.09813,
     "end_time": "2024-06-05T15:38:41.381109",
     "exception": false,
     "start_time": "2024-06-05T15:38:40.282979",
     "status": "completed"
    },
    "tags": []
   },
   "outputs": [
    {
     "name": "stdout",
     "output_type": "stream",
     "text": [
      "total 144M\r\n",
      "   0 drwxr-xr-x 2 nobody    0 May 13 11:16 ./\r\n",
      "4.0K drwxr-xr-x 3 root   4.0K Jun  5 15:37 ../\r\n",
      "4.0K -rw-r--r-- 1 nobody 1.4K May 13 11:16 2024_tourney_seeds.csv\r\n",
      " 12K -rw-r--r-- 1 nobody 9.1K May 13 11:16 Cities.csv\r\n",
      "4.0K -rw-r--r-- 1 nobody 1.7K May 13 11:16 Conferences.csv\r\n",
      "168K -rw-r--r-- 1 nobody 168K May 13 11:16 MConferenceTourneyGames.csv\r\n",
      "2.5M -rw-r--r-- 1 nobody 2.5M May 13 11:16 MGameCities.csv\r\n",
      "111M -rw-r--r-- 1 nobody 111M May 13 11:16 MMasseyOrdinals_thruSeason2024_day128.csv\r\n",
      " 72K -rw-r--r-- 1 nobody  72K May 13 11:16 MNCAATourneyCompactResults.csv\r\n",
      "132K -rw-r--r-- 1 nobody 129K May 13 11:16 MNCAATourneyDetailedResults.csv\r\n",
      " 16K -rw-r--r-- 1 nobody  16K May 13 11:16 MNCAATourneySeedRoundSlots.csv\r\n",
      " 40K -rw-r--r-- 1 nobody  38K May 13 11:16 MNCAATourneySeeds.csv\r\n",
      " 52K -rw-r--r-- 1 nobody  50K May 13 11:16 MNCAATourneySlots.csv\r\n",
      "5.3M -rw-r--r-- 1 nobody 5.3M May 13 11:16 MRegularSeasonCompactResults.csv\r\n",
      " 11M -rw-r--r-- 1 nobody  11M May 13 11:16 MRegularSeasonDetailedResults.csv\r\n",
      "4.0K -rw-r--r-- 1 nobody 1.8K May 13 11:16 MSeasons.csv\r\n",
      " 60K -rw-r--r-- 1 nobody  59K May 13 11:16 MSecondaryTourneyCompactResults.csv\r\n",
      " 28K -rw-r--r-- 1 nobody  27K May 13 11:16 MSecondaryTourneyTeams.csv\r\n",
      "388K -rw-r--r-- 1 nobody 385K May 13 11:16 MTeamCoaches.csv\r\n",
      "220K -rw-r--r-- 1 nobody 220K May 13 11:16 MTeamConferences.csv\r\n",
      " 24K -rw-r--r-- 1 nobody  23K May 13 11:16 MTeamSpellings.csv\r\n",
      " 12K -rw-r--r-- 1 nobody 9.8K May 13 11:16 MTeams.csv\r\n",
      "2.4M -rw-r--r-- 1 nobody 2.4M May 13 11:16 WGameCities.csv\r\n",
      " 48K -rw-r--r-- 1 nobody  47K May 13 11:16 WNCAATourneyCompactResults.csv\r\n",
      " 84K -rw-r--r-- 1 nobody  82K May 13 11:16 WNCAATourneyDetailedResults.csv\r\n",
      " 28K -rw-r--r-- 1 nobody  25K May 13 11:16 WNCAATourneySeeds.csv\r\n",
      " 36K -rw-r--r-- 1 nobody  34K May 13 11:16 WNCAATourneySlots.csv\r\n",
      "3.7M -rw-r--r-- 1 nobody 3.7M May 13 11:16 WRegularSeasonCompactResults.csv\r\n",
      "7.3M -rw-r--r-- 1 nobody 7.3M May 13 11:16 WRegularSeasonDetailedResults.csv\r\n",
      "4.0K -rw-r--r-- 1 nobody 1.4K May 13 11:16 WSeasons.csv\r\n",
      "156K -rw-r--r-- 1 nobody 154K May 13 11:16 WTeamConferences.csv\r\n",
      " 24K -rw-r--r-- 1 nobody  22K May 13 11:16 WTeamSpellings.csv\r\n",
      "8.0K -rw-r--r-- 1 nobody 6.1K May 13 11:16 WTeams.csv\r\n",
      "4.0K -rw-r--r-- 1 nobody 2.1K May 13 11:16 sample_submission.csv\r\n"
     ]
    }
   ],
   "source": [
    "!ls -GFlash ../input/march-machine-learning-mania-2024/"
   ]
  },
  {
   "cell_type": "markdown",
   "id": "bcaca11e",
   "metadata": {
    "papermill": {
     "duration": 0.003841,
     "end_time": "2024-06-05T15:38:41.389150",
     "exception": false,
     "start_time": "2024-06-05T15:38:41.385309",
     "status": "completed"
    },
    "tags": []
   },
   "source": [
    "**Files we are interested in:**\n",
    "\n",
    "* ***MRegularSeasonCompactResults.csv & WMRegularSeasonCompactResults.csv**\n",
    "\n",
    "    All game results from the regular season.\n",
    "* **MNCAATourneyCompactResults.csv & WNCAATourneyCompactResults.csv**\n",
    "\n",
    "    All game results from past tournaments.\n",
    "* **MNCAATourneySeeds.csv & MNCAATourneySeeds.csv**\n",
    "\n",
    "     The seeding for the tournaments\n",
    "* *** 2024_tourney_seeds.csv**\n",
    "\n",
    "   File that will be updated with 2024 seeds once released (2023 seeds prior to that)"
   ]
  },
  {
   "cell_type": "code",
   "execution_count": 6,
   "id": "eb9f0d5c",
   "metadata": {
    "execution": {
     "iopub.execute_input": "2024-06-05T15:38:41.399815Z",
     "iopub.status.busy": "2024-06-05T15:38:41.398951Z",
     "iopub.status.idle": "2024-06-05T15:38:41.407494Z",
     "shell.execute_reply": "2024-06-05T15:38:41.406177Z"
    },
    "papermill": {
     "duration": 0.016358,
     "end_time": "2024-06-05T15:38:41.409851",
     "exception": false,
     "start_time": "2024-06-05T15:38:41.393493",
     "status": "completed"
    },
    "tags": []
   },
   "outputs": [],
   "source": [
    "DATA_PATH = \"../input/march-machine-learning-mania-2024/\""
   ]
  },
  {
   "cell_type": "code",
   "execution_count": 7,
   "id": "f82903e1",
   "metadata": {
    "execution": {
     "iopub.execute_input": "2024-06-05T15:38:41.419894Z",
     "iopub.status.busy": "2024-06-05T15:38:41.418996Z",
     "iopub.status.idle": "2024-06-05T15:38:41.878455Z",
     "shell.execute_reply": "2024-06-05T15:38:41.877363Z"
    },
    "papermill": {
     "duration": 0.467744,
     "end_time": "2024-06-05T15:38:41.881579",
     "exception": false,
     "start_time": "2024-06-05T15:38:41.413835",
     "status": "completed"
    },
    "tags": []
   },
   "outputs": [],
   "source": [
    "df_seeds = pd.concat(\n",
    "    [\n",
    "        pd.read_csv(DATA_PATH + \"MNCAATourneySeeds.csv\").assign(League=\"M\"),\n",
    "        pd.read_csv(DATA_PATH + \"WNCAATourneySeeds.csv\").assign(League=\"W\"),\n",
    "    ],\n",
    ").reset_index(drop=True)\n",
    "\n",
    "df_season_results = pd.concat(\n",
    "    [\n",
    "        pd.read_csv(DATA_PATH + \"MRegularSeasonCompactResults.csv\").assign(League=\"M\"),\n",
    "        pd.read_csv(DATA_PATH + \"WRegularSeasonCompactResults.csv\").assign(League=\"W\"),\n",
    "    ]\n",
    ").reset_index(drop=True)\n",
    "\n",
    "df_tourney_results = pd.concat(\n",
    "    [\n",
    "        pd.read_csv(DATA_PATH + \"MNCAATourneyCompactResults.csv\").assign(League=\"M\"),\n",
    "        pd.read_csv(DATA_PATH + \"WNCAATourneyCompactResults.csv\").assign(League=\"W\"),\n",
    "    ]\n",
    ").reset_index(drop=True)"
   ]
  },
  {
   "cell_type": "code",
   "execution_count": null,
   "id": "3294c503",
   "metadata": {
    "papermill": {
     "duration": 0.005604,
     "end_time": "2024-06-05T15:38:41.893202",
     "exception": false,
     "start_time": "2024-06-05T15:38:41.887598",
     "status": "completed"
    },
    "tags": []
   },
   "outputs": [],
   "source": []
  },
  {
   "cell_type": "code",
   "execution_count": null,
   "id": "64cadf6d",
   "metadata": {
    "papermill": {
     "duration": 0.004238,
     "end_time": "2024-06-05T15:38:41.903307",
     "exception": false,
     "start_time": "2024-06-05T15:38:41.899069",
     "status": "completed"
    },
    "tags": []
   },
   "outputs": [],
   "source": []
  }
 ],
 "metadata": {
  "kaggle": {
   "accelerator": "none",
   "dataSources": [
    {
     "databundleVersionId": 8023814,
     "sourceId": 70068,
     "sourceType": "competition"
    }
   ],
   "dockerImageVersionId": 30715,
   "isGpuEnabled": false,
   "isInternetEnabled": true,
   "language": "python",
   "sourceType": "notebook"
  },
  "kernelspec": {
   "display_name": "Python 3",
   "language": "python",
   "name": "python3"
  },
  "language_info": {
   "codemirror_mode": {
    "name": "ipython",
    "version": 3
   },
   "file_extension": ".py",
   "mimetype": "text/x-python",
   "name": "python",
   "nbconvert_exporter": "python",
   "pygments_lexer": "ipython3",
   "version": "3.10.13"
  },
  "papermill": {
   "default_parameters": {},
   "duration": 39.457499,
   "end_time": "2024-06-05T15:38:42.631019",
   "environment_variables": {},
   "exception": null,
   "input_path": "__notebook__.ipynb",
   "output_path": "__notebook__.ipynb",
   "parameters": {},
   "start_time": "2024-06-05T15:38:03.173520",
   "version": "2.5.0"
  }
 },
 "nbformat": 4,
 "nbformat_minor": 5
}
